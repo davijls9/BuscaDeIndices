{
 "cells": [
  {
   "cell_type": "markdown",
   "metadata": {},
   "source": [
    "# Busca de Índice e Consulta de documento\n",
    "\n",
    "**Autor:** Davi J. Leite Santos  \n",
    "**Versão:** 0.0.3  \n",
    "**Data:** 25 de Abril de 2024  \n",
    "**Localização:** Ribeirão das Neves, Minas Gerais - Brasil  \n",
    "\n",
    "## Contato\n",
    "- 🏠 **Endereço:** Ribeirão das Neves, Minas Gerais - Brasil\n",
    "- 📧 **Email:** davi.jls@outlook.com\n",
    "- 🌐 **LinkedIn:** davi-j-leite-santos\n",
    "- 🌐 **Website:** davijls.com.br\n",
    "\n",
    "## Principais Competências\n",
    "- **Cibersegurança**\n",
    "- **Segurança da Informação**\n",
    "- **Operações de TI**"
   ]
  },
  {
   "cell_type": "markdown",
   "metadata": {},
   "source": [
    "# sobre o codigo\n",
    "\n",
    "Este código é uma extensão avançada para a criação, manipulação e pesquisa de um índice invertido, incluindo recursos de pré-processamento de texto, como remoção de stopwords, normalização de caracteres, tokenização e aplicação de stemming em português. Ele está integrado com operações de leitura e escrita JSON, e a implementação é orientada para uma análise de texto eficiente e recuperação de documentos.\n",
    "\n",
    "### Componentes Principais do Código\n",
    "\n",
    "#### 1. Preparação e Dependências\n",
    "- Importações de módulos essenciais como `json`, `re` (para expressões regulares), `nltk` (biblioteca de processamento de linguagem natural), `os` (para manipulação de sistema de arquivos) e `time` (para medição de desempenho).\n",
    "- Download de recursos do NLTK necessários para o processamento de texto, incluindo stopwords em português e o stemmer `RSLPStemmer`.\n",
    "\n",
    "#### 2. Limpe leitura e escrita de dados JSON\n",
    "- **load_json** e **save_json**: Funções para carregar e salvar dados em formato JSON, garantindo que a codificação seja adequada para suportar caracteres especiais em UTF-8.\n",
    "\n",
    "#### 3. Limpeza e Análise Léxica\n",
    "- **clean_text**: Remove caracteres especiais e stopwords, além de converter o texto para minúsculas, preparando-o para uma análise mais eficaz.\n",
    "- **lexical_analysis_and_stemming**: Aplica tokenização, limpe you palavras desnecessárias e realiza stemming, transformando palavras em suas formas raiz para reduzir a complexidade do índice.\n",
    "\n",
    "#### 4. Transformação e Indexação\n",
    "- **apply_lexical_analysis_and_stemming**: Transforma vocabulários e índices existentes com as operações de análise léxica e stemming para criar versões mais compactas e eficientes.\n",
    "- **process_data_with_lexical_analysis_and_stemming**: Processa os dados lendo o índice geral e o vocabulário, aplicando as transformações e salvando os novos índices.\n",
    "\n",
    "#### 5. Funcionalidades de Busca\n",
    "- **search_query**: Realiza uma busca efetiva utilizando o índice e vocabulário processados para encontrar documentos que contenham termos específicos, mostrando como palavras processadas podem ser rapidamente mapeadas aos documentos originais.\n",
    "\n",
    "#### 6. Avaliação de Desempenho\n",
    "- **measure_performance**: Avalia o desempenho do sistema medindo o tempo de resposta para consultas e o tamanho dos arquivos de índice e vocabulário, permitindo uma avaliação objetiva da eficiência das otimizações implementadas.\n",
    "\n",
    "### Implementação e Uso\n",
    "\n",
    "O código é cuidadosamente projetado para ser robusto e eficiente, utilizando práticas de codificação que garantem a integridade dos dados e a facilidade de manutenção. Ele oferece uma solução completa para a manipulação de grandes conjuntos de dados de texto em português, ideal para aplicações que requerem indexação e recuperação de informações textuais rápidas e precisas.\n",
    "\n",
    "Este sistema é especialmente útil em contextos onde a precisão lexical e a rapidez na recuperação de informações são cruciais, como em motores de busca ou sistemas de gerenciamento de documentos digitais."
   ]
  },
  {
   "cell_type": "markdown",
   "metadata": {},
   "source": [
    "# ----------------------------------------------------------------"
   ]
  },
  {
   "cell_type": "code",
   "execution_count": 21,
   "metadata": {},
   "outputs": [
    {
     "name": "stderr",
     "output_type": "stream",
     "text": [
      "[nltk_data] Downloading package rslp to\n",
      "[nltk_data]     C:\\Users\\davim\\AppData\\Roaming\\nltk_data...\n",
      "[nltk_data]   Package rslp is already up-to-date!\n",
      "[nltk_data] Downloading package punkt to\n",
      "[nltk_data]     C:\\Users\\davim\\AppData\\Roaming\\nltk_data...\n",
      "[nltk_data]   Package punkt is already up-to-date!\n",
      "[nltk_data] Downloading package stopwords to\n",
      "[nltk_data]     C:\\Users\\davim\\AppData\\Roaming\\nltk_data...\n",
      "[nltk_data]   Package stopwords is already up-to-date!\n"
     ]
    }
   ],
   "source": [
    "import json\n",
    "import re\n",
    "import nltk\n",
    "from nltk.corpus import stopwords\n",
    "from nltk.stem import RSLPStemmer\n",
    "import os\n",
    "import time\n",
    "\n",
    "# Baixar recursos do NLTK\n",
    "nltk.download(\"rslp\")\n",
    "nltk.download(\"punkt\")\n",
    "nltk.download(\"stopwords\")\n",
    "\n",
    "# Inicializar o Stemmer para português\n",
    "stemmer = RSLPStemmer()\n",
    "stop_words = set(stopwords.words(\"portuguese\"))\n"
   ]
  },
  {
   "cell_type": "markdown",
   "metadata": {},
   "source": [
    "# Limpeza dos dados\n",
    "\n",
    "Nessa etapa serão excluidas as stopworlds e transformadas os dados em UTF8 e retiradas os caracteres especias"
   ]
  },
  {
   "cell_type": "code",
   "execution_count": 15,
   "metadata": {},
   "outputs": [],
   "source": [
    "def load_json(file_path):\n",
    "    with open(file_path, \"r\", encoding=\"utf-8\") as f:\n",
    "        return json.load(f)\n",
    "\n",
    "\n",
    "def save_json(data, file_path):\n",
    "    with open(file_path, \"w\", encoding=\"utf-8\") as f:\n",
    "        json.dump(data, f, ensure_ascii=False, indent=4)\n",
    "\n",
    "\n",
    "def clean_text(text):\n",
    "    text = re.sub(r\"[^\\w\\s]\", \" \", text)  # Remove caracteres especiais\n",
    "    text = text.lower()  # Converte para minúsculas\n",
    "    tokens = text.split()\n",
    "    tokens = [word for word in tokens if word not in stop_words]  # Remove stopwords\n",
    "    return \" \".join(tokens)\n",
    "\n",
    "\n",
    "def lexical_analysis_and_stemming(text):\n",
    "    # Limpa o texto\n",
    "    cleaned_text = clean_text(text)\n",
    "    # Tokeniza o texto em palavras\n",
    "    tokens = nltk.word_tokenize(cleaned_text, language=\"portuguese\")\n",
    "    # Remove stopwords e aplica stemming em cada token\n",
    "    stemmed_tokens = [\n",
    "        stemmer.stem(token) for token in tokens if token not in stop_words\n",
    "    ]\n",
    "    return stemmed_tokens\n",
    "\n",
    "\n",
    "def apply_lexical_analysis_and_stemming(vocab, index):\n",
    "    stemmed_vocab = {}\n",
    "    stemmed_index = {}\n",
    "\n",
    "    for word, word_id in vocab.items():\n",
    "        # Análise léxica e stemming\n",
    "        stemmed_word = \" \".join(lexical_analysis_and_stemming(word))\n",
    "        if stemmed_word not in stemmed_vocab:\n",
    "            stemmed_vocab[stemmed_word] = word_id\n",
    "        stemmed_word_id = stemmed_vocab[stemmed_word]\n",
    "\n",
    "        if str(word_id) in index:\n",
    "            for doc_id, positions in index[str(word_id)].items():\n",
    "                if stemmed_word_id not in stemmed_index:\n",
    "                    stemmed_index[stemmed_word_id] = {}\n",
    "                if doc_id not in stemmed_index[stemmed_word_id]:\n",
    "                    stemmed_index[stemmed_word_id][doc_id] = positions\n",
    "                else:\n",
    "                    if isinstance(stemmed_index[stemmed_word_id][doc_id], list):\n",
    "                        stemmed_index[stemmed_word_id][doc_id].extend(positions)\n",
    "                    else:\n",
    "                        stemmed_index[stemmed_word_id][doc_id] = list(positions)\n",
    "\n",
    "    return stemmed_vocab, stemmed_index\n",
    "\n",
    "\n",
    "# Função principal para carregar, processar e salvar os dados com análise léxica e stemming\n",
    "def process_data_with_lexical_analysis_and_stemming(\n",
    "    index_geral_file, vocab_geral_file, cleaned_index_file, cleaned_vocab_file\n",
    "):\n",
    "    # Carregar os arquivos\n",
    "    index_geral = load_json(index_geral_file)\n",
    "    vocab_geral = load_json(vocab_geral_file)\n",
    "\n",
    "    # Aplicar análise léxica e stemming em vocabulário e índice\n",
    "    stemmed_vocab, stemmed_index = apply_lexical_analysis_and_stemming(\n",
    "        vocab_geral, index_geral\n",
    "    )\n",
    "\n",
    "    # Salvar os dados processados\n",
    "    save_json(stemmed_index, cleaned_index_file)\n",
    "    save_json(stemmed_vocab, cleaned_vocab_file)\n",
    "\n",
    "\n",
    "# Função para realizar a pesquisa\n",
    "def search_query(query, vocab_geral_file, index_geral_file, sites_dir):\n",
    "    # Carregar vocabulário e índice geral\n",
    "    vocab_geral = load_json(vocab_geral_file)\n",
    "    index_geral = load_json(index_geral_file)\n",
    "\n",
    "    # Processar a query\n",
    "    query_terms = lexical_analysis_and_stemming(query.lower())\n",
    "\n",
    "    # Obter IDs das palavras da query\n",
    "    word_ids = []\n",
    "    for term in query_terms:\n",
    "        if term in vocab_geral:\n",
    "            word_ids.append(vocab_geral[term])\n",
    "\n",
    "    # Recuperar documentos correspondentes\n",
    "    document_ids = set()\n",
    "    for word_id in word_ids:\n",
    "        if str(word_id) in index_geral:\n",
    "            document_ids.update(index_geral[str(word_id)].keys())\n",
    "\n",
    "    # Converter IDs dos documentos para nomes dos arquivos\n",
    "    files = sorted(os.listdir(sites_dir))\n",
    "    result_files = []\n",
    "    for doc_id in document_ids:\n",
    "        try:\n",
    "            result_files.append(files[int(doc_id)])\n",
    "        except (ValueError, IndexError):\n",
    "            continue\n",
    "\n",
    "    return result_files\n"
   ]
  },
  {
   "cell_type": "code",
   "execution_count": 11,
   "metadata": {},
   "outputs": [],
   "source": [
    "# Defina os caminhos dos arquivos\n",
    "index_geral_file = \"index_geral.json\"\n",
    "vocab_geral_file = \"vocab_geral.json\"\n",
    "cleaned_index_file = \"cleaned_index_geral.json\"\n",
    "cleaned_vocab_file = \"cleaned_vocab_geral.json\"\n"
   ]
  },
  {
   "cell_type": "code",
   "execution_count": 12,
   "metadata": {},
   "outputs": [],
   "source": [
    "# Processar os dados com análise léxica e stemming\n",
    "process_data_with_lexical_analysis_and_stemming(\n",
    "    index_geral_file, vocab_geral_file, cleaned_index_file, cleaned_vocab_file\n",
    ")\n"
   ]
  },
  {
   "cell_type": "code",
   "execution_count": 13,
   "metadata": {},
   "outputs": [],
   "source": [
    "# Exemplos de uso:\n",
    "sites_dir = \"../Motor_de_busca-WebCrawler/sites_visitados/\"\n",
    "query = \"noticia\"\n"
   ]
  },
  {
   "cell_type": "code",
   "execution_count": 16,
   "metadata": {},
   "outputs": [],
   "source": [
    "result_files = search_query(query, cleaned_vocab_file, cleaned_index_file, sites_dir)\n"
   ]
  },
  {
   "cell_type": "code",
   "execution_count": 17,
   "metadata": {},
   "outputs": [],
   "source": [
    "for result in result_files:\n",
    "    print(result)\n"
   ]
  },
  {
   "cell_type": "markdown",
   "metadata": {},
   "source": [
    "# Verificação"
   ]
  },
  {
   "cell_type": "markdown",
   "metadata": {},
   "source": [
    "Instalando a biblioteca para fazer a analise Léxica e stemming"
   ]
  },
  {
   "cell_type": "code",
   "execution_count": 18,
   "metadata": {},
   "outputs": [],
   "source": [
    "# Função para carregar o índice e vocabulário\n",
    "def load_data(index_file, vocab_file):\n",
    "    with open(index_file, \"r\", encoding=\"utf-8\") as f:\n",
    "        index = json.load(f)\n",
    "    with open(vocab_file, \"r\", encoding=\"utf-8\") as f:\n",
    "        vocab = json.load(f)\n",
    "    return index, vocab\n",
    "\n",
    "\n",
    "# Função para buscar termos no índice\n",
    "def search_term(index, vocab, term):\n",
    "    cleaned_term = clean_text(term)\n",
    "    stemmed_term = stemmer.stem(cleaned_term)\n",
    "    if stemmed_term in vocab:\n",
    "        word_id = vocab[stemmed_term]\n",
    "        if str(word_id) in index:\n",
    "            return index[str(word_id)]\n",
    "    return {}\n",
    "\n",
    "\n",
    "# Função para medir o tempo de pesquisa e o espaço de indexação\n",
    "def measure_performance(index_file, vocab_file, search_terms, output_file):\n",
    "    index, vocab = load_data(index_file, vocab_file)\n",
    "\n",
    "    # Medir tempo de pesquisa\n",
    "    search_times = []\n",
    "    for term in search_terms:\n",
    "        start_time = time.time()\n",
    "        search_term(index, vocab, term)\n",
    "        end_time = time.time()\n",
    "        search_times.append(end_time - start_time)\n",
    "\n",
    "    avg_search_time = sum(search_times) / len(search_times)\n",
    "\n",
    "    # Medir tamanho dos arquivos\n",
    "    index_size = os.path.getsize(index_file)\n",
    "    vocab_size = os.path.getsize(vocab_file)\n",
    "    total_size = index_size + vocab_size\n",
    "\n",
    "    # Escrever resultados em um arquivo de texto\n",
    "    with open(output_file, \"w\", encoding=\"utf-8\") as f:\n",
    "        f.write(f\"Tempo médio de pesquisa: {avg_search_time:.6f} segundos\\n\")\n",
    "        f.write(f\"Tamanho do arquivo de índice: {index_size} bytes\\n\")\n",
    "        f.write(f\"Tamanho do arquivo de vocabulário: {vocab_size} bytes\\n\")\n",
    "        f.write(f\"Tamanho total dos arquivos: {total_size} bytes\\n\")\n"
   ]
  },
  {
   "cell_type": "code",
   "execution_count": 19,
   "metadata": {},
   "outputs": [],
   "source": [
    "# Definir os caminhos dos novos arquivos\n",
    "cleaned_index_geral_file = \"cleaned_index_geral.json\"\n",
    "cleaned_vocab_geral_file = \"cleaned_vocab_geral.json\"\n",
    "output_file = \"performance_metrics.txt\"\n",
    "\n",
    "# Definir termos de pesquisa para teste\n",
    "search_terms = [\"educação\", \"linguagem\", \"noticia\", \"ideia\", \"politica\"]\n"
   ]
  },
  {
   "cell_type": "code",
   "execution_count": 22,
   "metadata": {},
   "outputs": [],
   "source": [
    "# Medir desempenho e salvar resultados\n",
    "measure_performance(\n",
    "    cleaned_index_geral_file, cleaned_vocab_geral_file, search_terms, output_file\n",
    ")\n"
   ]
  },
  {
   "cell_type": "code",
   "execution_count": null,
   "metadata": {},
   "outputs": [],
   "source": []
  }
 ],
 "metadata": {
  "kernelspec": {
   "display_name": "Python 3",
   "language": "python",
   "name": "python3"
  },
  "language_info": {
   "codemirror_mode": {
    "name": "ipython",
    "version": 3
   },
   "file_extension": ".py",
   "mimetype": "text/x-python",
   "name": "python",
   "nbconvert_exporter": "python",
   "pygments_lexer": "ipython3",
   "version": "3.11.4"
  }
 },
 "nbformat": 4,
 "nbformat_minor": 2
}
