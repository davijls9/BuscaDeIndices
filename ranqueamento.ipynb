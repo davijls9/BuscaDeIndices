{
 "cells": [
  {
   "cell_type": "markdown",
   "metadata": {},
   "source": [
    "# Busca de Índice e Consulta de documento\n",
    "\n",
    "**Autor:** Davi J. Leite Santos  \n",
    "**Versão:** 0.0.3  \n",
    "**Data:** 25 de Abril de 2024  \n",
    "**Localização:** Ribeirão das Neves, Minas Gerais - Brasil  \n",
    "\n",
    "## Contato\n",
    "- 🏠 **Endereço:** Ribeirão das Neves, Minas Gerais - Brasil\n",
    "- 📧 **Email:** davi.jls@outlook.com\n",
    "- 🌐 **LinkedIn:** davi-j-leite-santos\n",
    "- 🌐 **Website:** davijls.com.br\n",
    "\n",
    "## Principais Competências\n",
    "- **Cibersegurança**\n",
    "- **Segurança da Informação**\n",
    "- **Operações de TI**"
   ]
  },
  {
   "cell_type": "markdown",
   "metadata": {},
   "source": [
    "# Função de ranqueamento"
   ]
  },
  {
   "cell_type": "markdown",
   "metadata": {},
   "source": [
    "Para implementar um sistema de ranqueamento eficiente e matematicamente robusto, uma boa escolha é o modelo de Recuperação de Informação Vetorial, que utiliza o cálculo de similaridade de cosseno entre os vetores de termo-documento e o vetor de termos da consulta. Essa abordagem é eficiente e amplamente utilizada em sistemas de recuperação de informações.\n",
    "\n",
    "## Funções Matemáticas do Modelo Vetorial\n",
    "\n",
    "TF-IDF (Term Frequency-Inverse Document Frequency):\n",
    "\n",
    "- TF (Term Frequency): Frequência de um termo em um documento.\n",
    "- IDF (Inverse Document Frequency): Medida de quanto um termo é raro em todos os documentos.\n",
    "\n",
    "## Similaridade de Cosseno:\n",
    "\n",
    "Medida de similaridade entre dois vetores que quantifica a similaridade entre eles."
   ]
  },
  {
   "cell_type": "markdown",
   "metadata": {},
   "source": [
    "# Sobre o codigo\n",
    "\n",
    "Este código fornece uma implementação de um sistema de ranking de documentos usando técnicas de recuperação de informações baseadas em modelos vetoriais, como TF-IDF (Term Frequency-Inverse Document Frequency) e similaridade de cosseno. Essa abordagem é bastante utilizada para determinar a relevância de documentos com base em uma consulta fornecida pelo usuário. Aqui está uma descrição detalhada de cada componente e funcionalidade chave do código:\n",
    "\n",
    "### Componentes Principais do Código\n",
    "\n",
    "#### 1. **Configurações e Bibliotecas**\n",
    "- O código utiliza bibliotecas como `re`, `nltk`, `sklearn`, e `json` para realizar limpeza de texto, processamento de linguagem natural e manipulação de dados.\n",
    "- Configuração de stopwords e stemmer em português para preparar os dados textualmente.\n",
    "\n",
    "#### 2. **Funções de Limpeza e Preprocessamento de Texto**\n",
    "- **clean_text**: Limpa o texto removendo caracteres especiais e convertendo tudo para minúsculas. Stopwords são também removidas para reduzir ruídos nos dados.\n",
    "- **apply_stemming**: Aplica redução das palavras aos seus radicais, utilizando `RSLPStemmer`.\n",
    "- **preprocess_query**: Combina as funções de limpeza e stemming para preparar consultas de busca.\n",
    "\n",
    "#### 3. **Carregamento de Dados**\n",
    "- **load_data**: Carrega os arquivos de vocabulário e índice geral, que contêm informações preparadas para o processamento de textos e consulta.\n",
    "- **load_document**: Carrega e processa documentos de um caminho especificado, aplicando limpeza e stemming.\n",
    "\n",
    "#### 4. **Funções para Carregamento e Preparação de Documentos**\n",
    "- **get_documents**: Itera sobre o índice geral para extrair documentos e seus identificadores, que são essenciais para a recuperação de informações durante a busca.\n",
    "\n",
    "#### 5. **Cálculo do TF-IDF e Busca**\n",
    "- **search_query_tfidf**: Utiliza o `TfidfVectorizer` da biblioteca `sklearn` para transformar documentos e consultas em representações de TF-IDF, e então calcula a similaridade de cosseno para determinar a relevância dos documentos em relação à consulta.\n",
    "\n",
    "#### 6. **Exibição dos Resultados**\n",
    "- **display_results_with_scores**: Organiza e exibe os resultados da busca, mostrando os documentos com suas pontuações. Os documentos são exibidos em ordem de relevância com o tempo de busca registrado.\n",
    "\n",
    "### Uso e Benefícios\n",
    "Este código é ideal para sistemas onde a precisão e a relevância da informação recuperada são cruciais, como em sistemas de busca internos de empresas ou aplicações acadêmicas onde documentos precisam ser recuperados com base em seu conteúdo semântico. A capacidade de processar e indexar grandes conjuntos de dados de texto e realizar buscas rápidas e eficientes são pontos-chave deste sistema.\n",
    "\n",
    "### Exemplo de Uso\n",
    "No exemplo de código, uma consulta é pré-processada e uma busca TF-IDF é realizada nos documentos carregados. Os resultados são então exibidos com pontuações de relevância, demonstrando a eficácia do sistema em encontrar e classificar documentos com base na consulta do usuário."
   ]
  },
  {
   "cell_type": "markdown",
   "metadata": {},
   "source": [
    "# ----------------------------------------------------------------"
   ]
  },
  {
   "cell_type": "code",
   "execution_count": 1,
   "metadata": {},
   "outputs": [
    {
     "name": "stderr",
     "output_type": "stream",
     "text": [
      "[nltk_data] Downloading package stopwords to\n",
      "[nltk_data]     C:\\Users\\davim\\AppData\\Roaming\\nltk_data...\n",
      "[nltk_data]   Package stopwords is already up-to-date!\n",
      "[nltk_data] Downloading package rslp to\n",
      "[nltk_data]     C:\\Users\\davim\\AppData\\Roaming\\nltk_data...\n",
      "[nltk_data]   Package rslp is already up-to-date!\n",
      "[nltk_data] Downloading package punkt to\n",
      "[nltk_data]     C:\\Users\\davim\\AppData\\Roaming\\nltk_data...\n",
      "[nltk_data]   Package punkt is already up-to-date!\n"
     ]
    }
   ],
   "source": [
    "import re\n",
    "import nltk\n",
    "from sklearn.feature_extraction.text import TfidfVectorizer\n",
    "from rank_bm25 import BM25Okapi\n",
    "from nltk.corpus import stopwords\n",
    "from nltk.stem import RSLPStemmer\n",
    "import pandas as pd\n",
    "import json\n",
    "import time\n",
    "\n",
    "nltk.download(\"stopwords\")\n",
    "nltk.download(\"rslp\")\n",
    "nltk.download(\"punkt\")\n",
    "\n",
    "stop_words = set(stopwords.words(\"portuguese\"))\n",
    "stemmer = RSLPStemmer()\n"
   ]
  },
  {
   "cell_type": "markdown",
   "metadata": {},
   "source": [
    "### Funções de Limpeza e Preprocessamento\n"
   ]
  },
  {
   "cell_type": "code",
   "execution_count": 2,
   "metadata": {},
   "outputs": [],
   "source": [
    "def clean_text(text):\n",
    "    text = re.sub(r\"[^\\w\\s]\", \" \", text)  # Remove special characters\n",
    "    text = text.lower()  # Convert to lowercase\n",
    "    tokens = text.split()\n",
    "    tokens = [word for word in tokens if word not in stop_words]  # Remove stopwords\n",
    "    return \" \".join(tokens)\n",
    "\n",
    "\n",
    "def apply_stemming(text):\n",
    "    tokens = nltk.word_tokenize(text, language=\"portuguese\")\n",
    "    stemmed_tokens = [stemmer.stem(token) for token in tokens]\n",
    "    return \" \".join(stemmed_tokens)\n",
    "\n",
    "\n",
    "def preprocess_query(query):\n",
    "    cleaned_query = clean_text(query)\n",
    "    stemmed_query = apply_stemming(cleaned_query)\n",
    "    return stemmed_query\n"
   ]
  },
  {
   "cell_type": "code",
   "execution_count": 3,
   "metadata": {},
   "outputs": [],
   "source": [
    "import os\n",
    "\n",
    "\n",
    "def load_document(file_path):\n",
    "    with open(file_path, \"r\", encoding=\"utf-8\") as file:\n",
    "        text = file.read()\n",
    "    cleaned_text = clean_text(text)\n",
    "    stemmed_text = apply_stemming(cleaned_text)\n",
    "    return stemmed_text\n"
   ]
  },
  {
   "cell_type": "markdown",
   "metadata": {},
   "source": [
    "### Carregar Dados e Preparar Documentos"
   ]
  },
  {
   "cell_type": "code",
   "execution_count": 4,
   "metadata": {},
   "outputs": [],
   "source": [
    "def load_data(vocab_geral_file, index_geral_file):\n",
    "    with open(vocab_geral_file, \"r\", encoding=\"utf-8\") as f:\n",
    "        vocab_geral = json.load(f)\n",
    "    with open(index_geral_file, \"r\", encoding=\"utf-8\") as f:\n",
    "        index_geral = json.load(f)\n",
    "    return vocab_geral, index_geral\n",
    "\n",
    "\n",
    "vocab_geral_file = \"cleaned_vocab_geral.json\"\n",
    "index_geral_file = \"cleaned_index_geral.json\"\n",
    "\n",
    "vocab_geral, index_geral = load_data(vocab_geral_file, index_geral_file)\n"
   ]
  },
  {
   "cell_type": "code",
   "execution_count": 5,
   "metadata": {},
   "outputs": [
    {
     "name": "stderr",
     "output_type": "stream",
     "text": [
      "Loading documents: 100%|██████████| 6781155/6781155 [00:12<00:00, 526978.31it/s]\n"
     ]
    }
   ],
   "source": [
    "from tqdm import tqdm\n",
    "\n",
    "\n",
    "def get_documents(index_geral):\n",
    "    documents = []\n",
    "    doc_ids = []\n",
    "    for word_id, data in tqdm(index_geral.items(), desc=\"Loading documents\"):\n",
    "        for doc_id in data[\"doc_info\"]:\n",
    "            doc_ids.append(doc_id)\n",
    "            documents.append(data[\"file_names\"][0])\n",
    "    return documents, doc_ids\n",
    "\n",
    "\n",
    "documents, doc_ids = get_documents(index_geral)\n"
   ]
  },
  {
   "cell_type": "markdown",
   "metadata": {},
   "source": [
    "### Funções para o calculo do TF-IDF"
   ]
  },
  {
   "cell_type": "code",
   "execution_count": 13,
   "metadata": {},
   "outputs": [],
   "source": [
    "def search_query_tfidf(query, documents):\n",
    "    start_time = time.time()\n",
    "\n",
    "    vectorizer = TfidfVectorizer()\n",
    "    tfidf_matrix = vectorizer.fit_transform(documents)\n",
    "    query_vector = vectorizer.transform([query])\n",
    "\n",
    "    scores = (tfidf_matrix * query_vector.T).toarray().flatten()\n",
    "\n",
    "    # Adicionar barra de progresso\n",
    "    sorted_scores_idx = tqdm(\n",
    "        scores.argsort()[::-1], desc=\"Calculating Scores\", unit=\"doc\"\n",
    "    )\n",
    "\n",
    "    sorted_scores = [\n",
    "        (documents[i], scores[i]) for i in sorted_scores_idx if scores[i] > 0\n",
    "    ]\n",
    "\n",
    "    end_time = time.time()\n",
    "    search_time = end_time - start_time\n",
    "\n",
    "    return list(set(sorted_scores)), search_time\n"
   ]
  },
  {
   "cell_type": "markdown",
   "metadata": {},
   "source": [
    "# Usando todas as funções"
   ]
  },
  {
   "cell_type": "code",
   "execution_count": 14,
   "metadata": {},
   "outputs": [],
   "source": [
    "def display_results_with_scores(sorted_scores, search_time):\n",
    "    print(f\"{'Site':<200}{'Score':<110}\")\n",
    "    print(\"=\" * 210)\n",
    "    for file_name, score in sorted_scores:\n",
    "        print(f\"{file_name:<200}{score:<110.4f}\")\n",
    "\n",
    "    print(f\"\\nSearch completed in {search_time:.2f} seconds\")\n"
   ]
  },
  {
   "cell_type": "code",
   "execution_count": 15,
   "metadata": {},
   "outputs": [],
   "source": [
    "# Exemplo de uso\n",
    "query = \"buceta cu vagina anal sexo toy pussy pinto dick desgraça tnc fuder sefuder fdp bunda\"\n"
   ]
  },
  {
   "cell_type": "code",
   "execution_count": 17,
   "metadata": {},
   "outputs": [
    {
     "name": "stderr",
     "output_type": "stream",
     "text": [
      "Calculating Scores: 100%|██████████| 9048738/9048738 [00:05<00:00, 1553536.13doc/s]"
     ]
    },
    {
     "name": "stdout",
     "output_type": "stream",
     "text": [
      "TF-IDF Results:\n",
      "Site                                                                                                                                                                                                    Score                                                                                                         \n",
      "==================================================================================================================================================================================================================\n",
      "www_metropoles_com]celebridades]deborah-secco-admite-que-ama-sexo-anal-e-nunca-cuspiu-gozo-veja-video.txt                                                                                               0.2045                                                                                                        \n",
      "www_metropoles_com]colunas]pouca-vergonha]bifobia-e-falocentrismo-o-que-envelheceu-mal-em-sex-and-the-city.txt                                                                                          0.2454                                                                                                        \n",
      "www_metropoles_com]colunas]pouca-vergonha]beijo-grego-44-das-pessoas-ja-gozaram-com-o-carinho-anal-veja-dicas.txt                                                                                       0.2063                                                                                                        \n",
      "\n",
      "Search completed in 107.22 seconds\n"
     ]
    },
    {
     "name": "stderr",
     "output_type": "stream",
     "text": [
      "\n"
     ]
    }
   ],
   "source": [
    "# TF-IDF Search\n",
    "preprocessed_query = preprocess_query(query)\n",
    "sorted_scores_tfidf, search_time_tfidf = search_query_tfidf(\n",
    "    preprocessed_query, documents\n",
    ")\n",
    "\n",
    "print(\"TF-IDF Results:\")\n",
    "display_results_with_scores(sorted_scores_tfidf, search_time_tfidf)\n"
   ]
  },
  {
   "cell_type": "code",
   "execution_count": null,
   "metadata": {},
   "outputs": [],
   "source": []
  }
 ],
 "metadata": {
  "kernelspec": {
   "display_name": "Python 3",
   "language": "python",
   "name": "python3"
  },
  "language_info": {
   "codemirror_mode": {
    "name": "ipython",
    "version": 3
   },
   "file_extension": ".py",
   "mimetype": "text/x-python",
   "name": "python",
   "nbconvert_exporter": "python",
   "pygments_lexer": "ipython3",
   "version": "3.11.4"
  }
 },
 "nbformat": 4,
 "nbformat_minor": 2
}
